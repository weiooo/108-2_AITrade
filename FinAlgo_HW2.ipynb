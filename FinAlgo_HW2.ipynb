{
 "cells": [
  {
   "cell_type": "markdown",
   "metadata": {},
   "source": [
    "# Interest Rate Parity"
   ]
  },
  {
   "cell_type": "code",
   "execution_count": 1,
   "metadata": {},
   "outputs": [
    {
     "data": {
      "text/plain": [
       "0.0012726097688562329"
      ]
     },
     "execution_count": 1,
     "metadata": {},
     "output_type": "execute_result"
    }
   ],
   "source": [
    "import math\n",
    "import numpy as np\n",
    "import matplotlib.pyplot as plt\n",
    "\n",
    "spot_6m, sp_6m = 108, -0.1221\n",
    "forward = spot_6m + sp_6m\n",
    "\n",
    "rf_6m = 0.35350 / 100\n",
    "T = 0.5\n",
    "\n",
    "# 把美元當外國貨幣; 日圓當作本國貨幣\n",
    "rd = math.log(forward/spot_6m*math.exp(rf_6m*T))/T\n",
    "rd"
   ]
  },
  {
   "cell_type": "markdown",
   "metadata": {},
   "source": [
    "# Part I | Fair Value"
   ]
  },
  {
   "cell_type": "markdown",
   "metadata": {},
   "source": [
    "## Simulate the FX rate by Heston model"
   ]
  },
  {
   "cell_type": "code",
   "execution_count": 2,
   "metadata": {},
   "outputs": [],
   "source": [
    "# Parameter\n",
    "S0 = 108\n",
    "r = rd # jpy_6m\n",
    "T = 0.5     # maturity(year)\n",
    "dt = 1/365  # 1 days\n",
    "\n",
    "# For Heston model\n",
    "V0 = 0.0102401\n",
    "rho = 0.128199\n",
    "kappa = 1.171979\n",
    "theta = 0.0141483\n",
    "sigma = 0.336611"
   ]
  },
  {
   "cell_type": "code",
   "execution_count": 3,
   "metadata": {},
   "outputs": [],
   "source": [
    "def HestonProb(S0, V0, r, T, dt, rho, kappa, theta, sigma, rep):\n",
    "    \n",
    "    n = round(T/dt) # Simulate 182 steps\n",
    "    count_no = 0\n",
    "    count_yes = 0\n",
    "    \n",
    "    for _ in range(rep):\n",
    "    \n",
    "        # Generate random Brownian Motion\n",
    "        MU  = np.array([0, 0])\n",
    "        COV = np.matrix([[1, rho], [rho, 1]])\n",
    "        W   = np.random.multivariate_normal(MU, COV, n) \n",
    "        W_S = W[:,0] \n",
    "        W_V = W[:,1]\n",
    "\n",
    "        V = [V0] + [np.nan] * n\n",
    "        S = [S0] + [np.nan] * n\n",
    "\n",
    "        for i in range(0,n):\n",
    "            V[i+1] = V[i] + kappa*(theta - V[i])*dt + sigma*np.sqrt(V[i]*dt) * W_V[i]\n",
    "            if (V[i+1] < 0): V[i+1] = 0\n",
    "\n",
    "            S[i+1] = S[i] * np.exp(dt*(r-0.5*V[i]) + np.sqrt(V[i]*dt) * W_S[i])\n",
    "            if (S[i+1] >= 110):\n",
    "                count_no += 1\n",
    "                break\n",
    "            elif (S[i+1] <= 105):\n",
    "                count_yes += 1\n",
    "                break\n",
    "            else:\n",
    "                continue\n",
    "    \n",
    "    prob_yes = count_yes/rep\n",
    "    prob_no = count_no/rep\n",
    "    prob_continue = 1 - prob_yes - prob_no\n",
    "    \n",
    "    return prob_yes, prob_no, prob_continue    "
   ]
  },
  {
   "cell_type": "markdown",
   "metadata": {},
   "source": [
    "## The probability of touching yes barrier"
   ]
  },
  {
   "cell_type": "code",
   "execution_count": 11,
   "metadata": {},
   "outputs": [
    {
     "data": {
      "text/plain": [
       "0.38704"
      ]
     },
     "execution_count": 11,
     "metadata": {},
     "output_type": "execute_result"
    }
   ],
   "source": [
    "rep = 100000\n",
    "np.random.seed(seed=12345)\n",
    "prob_yes, prob_no, prob_continue = HestonProb(S0, V0, r, T, dt, rho, kappa, theta, sigma, rep)\n",
    "prob_yes"
   ]
  },
  {
   "cell_type": "markdown",
   "metadata": {},
   "source": [
    "## Calculate Fair Value with discount rate"
   ]
  },
  {
   "cell_type": "code",
   "execution_count": 12,
   "metadata": {},
   "outputs": [],
   "source": [
    "def HestonPrice(NP, prob_yes, r, T):\n",
    "    payoff_yes = NP * (1+0.03/2)\n",
    "    p = prob_yes\n",
    "    fair_value = (payoff_yes*p + NP * (1-p)) * np.exp(-r*T)\n",
    "    \n",
    "    return fair_value"
   ]
  },
  {
   "cell_type": "code",
   "execution_count": 13,
   "metadata": {},
   "outputs": [
    {
     "data": {
      "text/plain": [
       "1004029.4087734066"
      ]
     },
     "execution_count": 13,
     "metadata": {},
     "output_type": "execute_result"
    }
   ],
   "source": [
    "NP = 1000000 # 本金\n",
    "r = rf_6m\n",
    "\n",
    "C = HestonPrice(NP, prob_yes, r, T)\n",
    "C"
   ]
  },
  {
   "cell_type": "markdown",
   "metadata": {},
   "source": [
    "# Part II | Greeks"
   ]
  },
  {
   "cell_type": "markdown",
   "metadata": {},
   "source": [
    "## Delta\n",
    "dS = 0.01S"
   ]
  },
  {
   "cell_type": "code",
   "execution_count": 14,
   "metadata": {},
   "outputs": [],
   "source": [
    "h = 0.01 * S0\n",
    "Su = S0 + h\n",
    "Sd = S0 - h\n",
    " \n",
    "np.random.seed(seed=12345)\n",
    "prob_yes, prob_no, prob_continue = HestonProb(Su, V0, r, T, dt, rho, kappa, theta, sigma, rep)\n",
    "Cu = HestonPrice(NP, prob_yes, r, T)\n",
    "\n",
    "np.random.seed(seed=12345)\n",
    "prob_yes, prob_no, prob_continue = HestonProb(Sd, V0, r, T, dt, rho, kappa, theta, sigma, rep)\n",
    "Cd = HestonPrice(NP, prob_yes, r, T)"
   ]
  },
  {
   "cell_type": "code",
   "execution_count": 15,
   "metadata": {},
   "outputs": [
    {
     "name": "stdout",
     "output_type": "stream",
     "text": [
      "Cu = 1001259.6087240495 \n",
      "Cd = 1006865.0922707967\n"
     ]
    }
   ],
   "source": [
    "print(\"Cu =\", Cu,\"\\nCd =\", Cd)"
   ]
  },
  {
   "cell_type": "code",
   "execution_count": 16,
   "metadata": {},
   "outputs": [
    {
     "name": "stdout",
     "output_type": "stream",
     "text": [
      "Delta= -2595.1312716421885\n"
     ]
    }
   ],
   "source": [
    "delta = (Cu - Cd) / (2 * h) \n",
    "print(\"Delta=\", delta)"
   ]
  },
  {
   "cell_type": "markdown",
   "metadata": {},
   "source": [
    "## Gamma"
   ]
  },
  {
   "cell_type": "code",
   "execution_count": 17,
   "metadata": {},
   "outputs": [
    {
     "name": "stdout",
     "output_type": "stream",
     "text": [
      "Gamma= 56.48443761393612\n"
     ]
    }
   ],
   "source": [
    "gamma = (Cu - 2*C + Cd) / (h**2)\n",
    "print(\"Gamma=\", gamma)"
   ]
  },
  {
   "cell_type": "markdown",
   "metadata": {},
   "source": [
    "## Vega\n",
    "d sigma = 0.0001"
   ]
  },
  {
   "cell_type": "code",
   "execution_count": 18,
   "metadata": {},
   "outputs": [
    {
     "name": "stdout",
     "output_type": "stream",
     "text": [
      "Cu = 1003960.6803582993 \n",
      "C  = 1004029.4087734066\n"
     ]
    }
   ],
   "source": [
    "h = 0.0001\n",
    "\n",
    "np.random.seed(seed=12345)\n",
    "prob_yes, prob_no, prob_continue = HestonProb(S0, V0, r, T, dt, rho, kappa, theta, sigma+h, rep)\n",
    "Cu = HestonPrice(NP, prob_yes, r, T)\n",
    "print(\"Cu =\", Cu,\"\\nC  =\", C)"
   ]
  },
  {
   "cell_type": "code",
   "execution_count": 19,
   "metadata": {},
   "outputs": [
    {
     "name": "stdout",
     "output_type": "stream",
     "text": [
      "Vega= -687284.1510735452\n"
     ]
    }
   ],
   "source": [
    "vega = (Cu - C) / h\n",
    "print(\"Vega=\", vega)"
   ]
  }
 ],
 "metadata": {
  "kernelspec": {
   "display_name": "Python 3",
   "language": "python",
   "name": "python3"
  },
  "language_info": {
   "codemirror_mode": {
    "name": "ipython",
    "version": 3
   },
   "file_extension": ".py",
   "mimetype": "text/x-python",
   "name": "python",
   "nbconvert_exporter": "python",
   "pygments_lexer": "ipython3",
   "version": "3.7.1"
  }
 },
 "nbformat": 4,
 "nbformat_minor": 2
}
