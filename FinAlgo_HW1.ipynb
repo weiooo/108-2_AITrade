{
 "cells": [
  {
   "cell_type": "markdown",
   "metadata": {},
   "source": [
    "# HW1 | Sensitivity-based method, SBM"
   ]
  },
  {
   "cell_type": "markdown",
   "metadata": {},
   "source": [
    "### Define the function for European Option"
   ]
  },
  {
   "cell_type": "code",
   "execution_count": 11,
   "metadata": {},
   "outputs": [],
   "source": [
    "import numpy as np\n",
    "from scipy import stats\n",
    "\n",
    "def EuropeanOption(S, K, T, r, sigma, Type, shares):\n",
    "    \n",
    "    d1 = (np.log(S/K) + (r + 0.5 * sigma**2)*T)/(sigma * np.sqrt(T))\n",
    "    d2 = d1 - sigma * np.sqrt(T)\n",
    "    \n",
    "    if (Type == 'c'):\n",
    "        call = S * stats.norm.cdf(d1,0.0,1.0) - K * np.exp(-r*T) * stats.norm.cdf(d2,0.0,1.0)        \n",
    "        return call * shares\n",
    "    \n",
    "    else:\n",
    "        put = K * np.exp(-r*T) * stats.norm.cdf(-1*d2,0.0,1.0) - S * stats.norm.cdf(-1*d1,0.0,1.0)\n",
    "        return put * shares   "
   ]
  },
  {
   "cell_type": "markdown",
   "metadata": {},
   "source": [
    "### Define the function for interpolate"
   ]
  },
  {
   "cell_type": "code",
   "execution_count": 12,
   "metadata": {},
   "outputs": [],
   "source": [
    "def interpolate(T1,r1,T2,r2,t):\n",
    "    if (T2 < T1):\n",
    "        T1, T2 = T2, T1\n",
    "        r1, r2 = r2, r1\n",
    "    \n",
    "    r = r1 + (r2-r1) * (t-T1) / (T2-T1)\n",
    "    return r"
   ]
  },
  {
   "cell_type": "markdown",
   "metadata": {},
   "source": [
    "### Define the Class for option information"
   ]
  },
  {
   "cell_type": "code",
   "execution_count": 13,
   "metadata": {},
   "outputs": [],
   "source": [
    "class Optioninfo:\n",
    "    \n",
    "    def __init__(self, S, K, T, r, sigma, Type, pos, shares):\n",
    "        \n",
    "        self.S = S            # S     : stock price\n",
    "        self.K = K            # K     : strike price\n",
    "        self.T = T            # T     : time to maturity (year)\n",
    "        self.r = r            # r     : interest rate\n",
    "        self.sigma = sigma    # sigma : volatility of underlying asset\n",
    "        self.Type = Type      # Type  : 'c' for call; 'p' for put\n",
    "        self.pos = pos        # pos   : 'l' for long; 's' for short position\n",
    "        self.shares = shares  # shares: shares of underlying asset\n",
    "        \n",
    "        \n",
    "    # function for calculating delta, vega, gamma\n",
    "    def delta(self):\n",
    "        V0 = EuropeanOption(self.S, self.K, self.T, self.r, self.sigma, self.Type, self.shares)\n",
    "        V1 = EuropeanOption(self.S*1.01, self.K, self.T, self.r, self.sigma, self.Type, self.shares)\n",
    "        delta = (V1-V0) / 0.01 * (lambda x : -1 if x == 's' else 1)(self.pos)\n",
    "        self.deltavalue = delta\n",
    "        \n",
    "        WS_delta = delta * RW # Weighted Sensitivity\n",
    "        self.WS_delta = WS_delta\n",
    "        Kb_delta = (max(0, (WS_delta ** 2))) ** 0.5\n",
    "        \n",
    "        return Kb_delta\n",
    "        \n",
    "        \n",
    "    def vega(self):\n",
    "        change = 0.01 # change \n",
    "        sigma1 = interpolate(0.5, imvol_6m*(1+change), 1, imvol_12m, self.T)\n",
    "        V0 = EuropeanOption(self.S, self.K, self.T, self.r, self.sigma, self.Type, self.shares)\n",
    "        \n",
    "        # vega_6m\n",
    "        V1 = EuropeanOption(self.S, self.K, self.T, self.r, sigma1, self.Type, self.shares)\n",
    "        vega_6m = (V1 - V0) / (imvol_6m * change)\n",
    "        WS_vega_6m = RW * vega_6m * imvol_6m\n",
    "        \n",
    "        # vega_12m\n",
    "        sigma1 = interpolate(0.5, imvol_6m, 1, imvol_12m*(1+change), self.T)\n",
    "        V1 = EuropeanOption(self.S, self.K, self.T, self.r, sigma1, self.Type, self.shares)\n",
    "        vega_12m = (V1 - V0) / (imvol_12m * change)\n",
    "        WS_vega_12m = RW * vega_12m * imvol_12m\n",
    "        self.WSvega = [WS_vega_6m, WS_vega_12m]\n",
    "        \n",
    "        # intra-bucket calculation for 6m and 12m\n",
    "        alpha, Tk, Tl, rho_delta = 0.01, 0.5, 1, 1\n",
    "        rho = min(1, rho_delta*np.exp(-1*alpha*abs(Tk-Tl)/min(Tk,Tl)))\n",
    "        Kb_vega = (max(0,WS_vega_6m**2 + WS_vega_12m**2 + 2*rho*WS_vega_6m*WS_vega_12m))**0.5\n",
    "        \n",
    "        return Kb_vega\n",
    "        \n",
    "    \n",
    "    def curv(self):\n",
    "        price_change = 0.35\n",
    "        # when price goes up\n",
    "        S1 = self.S * (1+price_change)\n",
    "        V0 = EuropeanOption(self.S, self.K, self.T, self.r, self.sigma, self.Type, self.shares)\n",
    "        V1 = EuropeanOption(S1, self.K, self.T, self.r, self.sigma, self.Type, self.shares)\n",
    "        CVR_up = -((V1-V0)* (lambda x : -1 if x == 's' else 1)(self.pos) - self.deltavalue*0.35)\n",
    "        \n",
    "        # when price goes down\n",
    "        S1 = self.S * (1-price_change)\n",
    "        V1 = EuropeanOption(S1, self.K, self.T, self.r, self.sigma, self.Type, self.shares)\n",
    "        CVR_down = -((V1-V0)* (lambda x : -1 if x == 's' else 1)(self.pos) + self.deltavalue*0.35)\n",
    "        self.CVR_up, self.CVR_down = CVR_up, CVR_down\n",
    "        \n",
    "        Kb = max(((max(0,CVR_up))**2)**0.5, ((max(0,CVR_down))**2)**0.5)\n",
    "        Kb_curv = (max(0, Kb**2))**0.5\n",
    "        \n",
    "        return Kb_curv\n",
    "    \n",
    "    \n",
    "    def totalriskcap(self):\n",
    "        totalriskcap = self.delta() + self.vega() + self.curv()\n",
    "\n",
    "        return totalriskcap"
   ]
  },
  {
   "cell_type": "markdown",
   "metadata": {},
   "source": [
    "### Given the value of parameter"
   ]
  },
  {
   "cell_type": "code",
   "execution_count": 14,
   "metadata": {},
   "outputs": [],
   "source": [
    "r_6m, r_12m = 0.025, 0.028\n",
    "imvol_6m, imvol_12m = 0.25, 0.30\n",
    "\n",
    "S, K, T = 100, 100, 9/12\n",
    "r_9m = interpolate(0.5, r_6m, 1, r_12m, T)\n",
    "imvol_9m = interpolate(0.5, imvol_6m, 1, imvol_12m, T)\n",
    "\n",
    "RW = 0.35 # risk weight"
   ]
  },
  {
   "cell_type": "markdown",
   "metadata": {},
   "source": [
    "## Question 1"
   ]
  },
  {
   "cell_type": "code",
   "execution_count": 21,
   "metadata": {},
   "outputs": [
    {
     "name": "stdout",
     "output_type": "stream",
     "text": [
      "delta          : 20594.1283 \n",
      "vega           :  3249.7670 \n",
      "curvature      : 10517.2649 \n",
      "total risk cap : 34361.1602\n"
     ]
    }
   ],
   "source": [
    "asset1 = Optioninfo(S, K, T, r_9m, imvol_9m, 'c', 's', 1000)\n",
    "print('%-15s%s %10.4f'%('delta',':',asset1.delta()),\n",
    "      '\\n%-15s%s %10.4f'%('vega',':',asset1.vega()),\n",
    "      '\\n%-15s%s %10.4f'%('curvature',':',asset1.curv()),\n",
    "      '\\n%-15s%s %10.4f'%('total risk cap',':',asset1.totalriskcap()))"
   ]
  },
  {
   "cell_type": "markdown",
   "metadata": {},
   "source": [
    "## Question 2\n",
    "Two options have the same underlying asset."
   ]
  },
  {
   "cell_type": "code",
   "execution_count": 22,
   "metadata": {},
   "outputs": [
    {
     "name": "stdout",
     "output_type": "stream",
     "text": [
      "delta          : 14405.8717 \n",
      "vega           :  3249.7670 \n",
      "curvature      : 10517.2649 \n",
      "total risk cap : 28172.9037\n"
     ]
    }
   ],
   "source": [
    "asset2 = Optioninfo(S, K, T, r_9m, imvol_9m, 'p','s', 1000)\n",
    "print('%-15s%s %10.4f'%('delta',':',asset2.delta()),\n",
    "      '\\n%-15s%s %10.4f'%('vega',':',asset2.vega()),\n",
    "      '\\n%-15s%s %10.4f'%('curvature',':',asset2.curv()),\n",
    "      '\\n%-15s%s %10.4f'%('total risk cap',':',asset2.totalriskcap()))"
   ]
  },
  {
   "cell_type": "code",
   "execution_count": 23,
   "metadata": {},
   "outputs": [
    {
     "name": "stdout",
     "output_type": "stream",
     "text": [
      "delta          :  6188.2565 \n",
      "vega           :  6499.5340 \n",
      "curvature      : 21034.5298 \n",
      "total risk cap : 33722.3204\n"
     ]
    }
   ],
   "source": [
    "# For Portfolio\n",
    "portfolio = [asset1, asset2]\n",
    "rho_12 = 1 # correlation between the underlying assets of asset1 & asset2\n",
    "\n",
    "delta_list = []\n",
    "vega_list = []\n",
    "cvr_up_list = []\n",
    "cvr_down_list = []\n",
    "\n",
    "for i in range(len(portfolio)):   \n",
    "    delta_list.append(portfolio[i].WS_delta)\n",
    "    vega_list += portfolio[i].WSvega\n",
    "    cvr_up_list.append(portfolio[i].CVR_up)\n",
    "    cvr_down_list.append(portfolio[i].CVR_down)\n",
    "\n",
    "# inter-bucket calculation\n",
    "# Delta\n",
    "d = np.array([delta_list])\n",
    "corr = np.array([[1, rho_12], [rho_12, 1]])\n",
    "port_delta = (max(0, np.sum(d.T * d * corr)))**0.5\n",
    "\n",
    "# Vega\n",
    "v = np.array([vega_list])\n",
    "alpha, Tk, Tl, rho_delta = 0.01, 0.5, 1, 1\n",
    "rho = min(1, rho_delta*np.exp(-1*alpha*abs(Tk-Tl)/min(Tk,Tl)))\n",
    "corr = np.array([[1,rho,1,rho],[rho,1,rho,1],[1,rho,1,rho],[rho,1,rho,1]])\n",
    "port_vega = (max(0, np.sum(v.T * v * corr)))**0.5\n",
    "\n",
    "# Curvature\n",
    "cvr_up = np.array(cvr_up_list)\n",
    "phi = (cvr_up < 0) * (np.roll(cvr_up, 1) < 0)\n",
    "Kb_up = (max(0, sum(np.square(np.maximum(cvr_up, 0)) + (rho_12**2) * cvr_up * np.roll(cvr_up, 1) * (phi != True).astype(int)))) ** 0.5\n",
    "\n",
    "cvr_down = np.array(cvr_down_list)\n",
    "phi = (cvr_down < 0) * (np.roll(cvr_down, 1) < 0)\n",
    "Kb_down = (max(0, sum(np.square(np.maximum(cvr_down, 0)) + (rho_12**2) * cvr_down * np.roll(cvr_down, 1) * (phi != True).astype(int)))) ** 0.5\n",
    "\n",
    "Kb = max(Kb_up, Kb_down)\n",
    "port_curv = (max(0, Kb**2))**0.5\n",
    "\n",
    "print('%-15s%s %10.4f'%('delta',':',port_delta),\n",
    "      '\\n%-15s%s %10.4f'%('vega',':',port_vega),\n",
    "      '\\n%-15s%s %10.4f'%('curvature',':',port_curv),\n",
    "      '\\n%-15s%s %10.4f'%('total risk cap',':',port_delta + port_vega + port_curv))"
   ]
  }
 ],
 "metadata": {
  "kernelspec": {
   "display_name": "Python 3",
   "language": "python",
   "name": "python3"
  },
  "language_info": {
   "codemirror_mode": {
    "name": "ipython",
    "version": 3
   },
   "file_extension": ".py",
   "mimetype": "text/x-python",
   "name": "python",
   "nbconvert_exporter": "python",
   "pygments_lexer": "ipython3",
   "version": "3.7.1"
  }
 },
 "nbformat": 4,
 "nbformat_minor": 2
}
